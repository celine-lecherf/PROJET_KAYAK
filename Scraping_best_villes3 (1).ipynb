{
 "cells": [
  {
   "cell_type": "markdown",
   "metadata": {},
   "source": [
    "# Project: planning my next holidays ☀️\n",
    "\n",
    "Let's create a script that allows to get some information about all the hotels in a given city on <a href=\"https://www.booking.com\" target=\"_blank\">www.booking.com</a> 🧙\n",
    "\n",
    "**We strongly recommend that you use Scrapy, it will be much easier!**\n",
    "\n",
    "You can scrap as many information as you want, but we suggest that you get at least:\n",
    "\n",
    "* The hotel name, \n",
    "* The url to its booking.com page, \n",
    "* Its coordinates: latitude and longitude,\n",
    "* The score given by the website users,\n",
    "* The text description of the hotel.\n",
    "\n",
    "Then, you can execute this script for several cities from yesterday's list. Make sure you save the results in different files for each city and that the name of the city is stored in the filename (for later purposes 😉)."
   ]
  },
  {
   "cell_type": "markdown",
   "metadata": {},
   "source": []
  },
  {
   "cell_type": "code",
   "execution_count": 33,
   "metadata": {},
   "outputs": [
    {
     "name": "stdout",
     "output_type": "stream",
     "text": [
      "Collecting scrapy\n",
      "  Using cached Scrapy-2.5.1-py2.py3-none-any.whl (254 kB)\n",
      "Collecting cssselect>=0.9.1\n",
      "  Using cached cssselect-1.1.0-py2.py3-none-any.whl (16 kB)\n",
      "Collecting h2<4.0,>=3.0\n",
      "  Using cached h2-3.2.0-py2.py3-none-any.whl (65 kB)\n",
      "Collecting service-identity>=16.0.0\n",
      "  Using cached service_identity-21.1.0-py2.py3-none-any.whl (12 kB)\n",
      "Collecting Twisted[http2]>=17.9.0\n",
      "  Using cached Twisted-21.7.0-py3-none-any.whl (3.1 MB)\n",
      "Requirement already satisfied: pyOpenSSL>=16.2.0 in /opt/conda/lib/python3.8/site-packages (from scrapy) (19.1.0)\n",
      "Collecting lxml>=3.5.0; platform_python_implementation == \"CPython\"\n",
      "  Using cached lxml-4.6.3-cp38-cp38-manylinux2014_x86_64.whl (6.8 MB)\n",
      "Collecting parsel>=1.5.0\n",
      "  Using cached parsel-1.6.0-py2.py3-none-any.whl (13 kB)\n",
      "Processing /home/jovyan/.cache/pip/wheels/d1/d7/61/11b5b370ee487d38b5408ecb7e0257db9107fa622412cbe2ff/PyDispatcher-2.0.5-py3-none-any.whl\n",
      "Requirement already satisfied: cryptography>=2.0 in /opt/conda/lib/python3.8/site-packages (from scrapy) (3.1.1)\n",
      "Collecting queuelib>=1.4.2\n",
      "  Using cached queuelib-1.6.2-py2.py3-none-any.whl (13 kB)\n",
      "Collecting itemadapter>=0.1.0\n",
      "  Using cached itemadapter-0.4.0-py3-none-any.whl (10 kB)\n",
      "Collecting zope.interface>=4.1.3\n",
      "  Using cached zope.interface-5.4.0-cp38-cp38-manylinux2010_x86_64.whl (259 kB)\n",
      "Collecting w3lib>=1.17.0\n",
      "  Using cached w3lib-1.22.0-py2.py3-none-any.whl (20 kB)\n",
      "Processing /home/jovyan/.cache/pip/wheels/91/64/36/bd0d11306cb22a78c7f53d603c7eb74ebb6c211703bc40b686/Protego-0.1.16-py3-none-any.whl\n",
      "Collecting itemloaders>=1.0.1\n",
      "  Using cached itemloaders-1.0.4-py3-none-any.whl (11 kB)\n",
      "Collecting hyperframe<6,>=5.2.0\n",
      "  Using cached hyperframe-5.2.0-py2.py3-none-any.whl (12 kB)\n",
      "Collecting hpack<4,>=3.0\n",
      "  Using cached hpack-3.0.0-py2.py3-none-any.whl (38 kB)\n",
      "Requirement already satisfied: attrs>=19.1.0 in /opt/conda/lib/python3.8/site-packages (from service-identity>=16.0.0->scrapy) (20.2.0)\n",
      "Requirement already satisfied: six in /opt/conda/lib/python3.8/site-packages (from service-identity>=16.0.0->scrapy) (1.15.0)\n",
      "Collecting pyasn1\n",
      "  Using cached pyasn1-0.4.8-py2.py3-none-any.whl (77 kB)\n",
      "Collecting pyasn1-modules\n",
      "  Using cached pyasn1_modules-0.2.8-py2.py3-none-any.whl (155 kB)\n",
      "Collecting Automat>=0.8.0\n",
      "  Using cached Automat-20.2.0-py2.py3-none-any.whl (31 kB)\n",
      "Requirement already satisfied: typing-extensions>=3.6.5 in /opt/conda/lib/python3.8/site-packages (from Twisted[http2]>=17.9.0->scrapy) (3.7.4.2)\n",
      "Collecting hyperlink>=17.1.1\n",
      "  Using cached hyperlink-21.0.0-py2.py3-none-any.whl (74 kB)\n",
      "Collecting constantly>=15.1\n",
      "  Using cached constantly-15.1.0-py2.py3-none-any.whl (7.9 kB)\n",
      "Collecting incremental>=21.3.0\n",
      "  Using cached incremental-21.3.0-py2.py3-none-any.whl (15 kB)\n",
      "Collecting priority<2.0,>=1.1.0; extra == \"http2\"\n",
      "  Using cached priority-1.3.0-py2.py3-none-any.whl (11 kB)\n",
      "Requirement already satisfied: cffi!=1.11.3,>=1.8 in /opt/conda/lib/python3.8/site-packages (from cryptography>=2.0->scrapy) (1.14.3)\n",
      "Requirement already satisfied: setuptools in /opt/conda/lib/python3.8/site-packages (from zope.interface>=4.1.3->scrapy) (49.6.0.post20201009)\n",
      "Requirement already satisfied: jmespath>=0.9.5 in /opt/conda/lib/python3.8/site-packages (from itemloaders>=1.0.1->scrapy) (0.10.0)\n",
      "Requirement already satisfied: idna>=2.5 in /opt/conda/lib/python3.8/site-packages (from hyperlink>=17.1.1->Twisted[http2]>=17.9.0->scrapy) (2.10)\n",
      "Requirement already satisfied: pycparser in /opt/conda/lib/python3.8/site-packages (from cffi!=1.11.3,>=1.8->cryptography>=2.0->scrapy) (2.20)\n",
      "Installing collected packages: cssselect, hyperframe, hpack, h2, pyasn1, pyasn1-modules, service-identity, Automat, hyperlink, zope.interface, constantly, incremental, priority, Twisted, lxml, w3lib, parsel, PyDispatcher, queuelib, itemadapter, protego, itemloaders, scrapy\n",
      "Successfully installed Automat-20.2.0 PyDispatcher-2.0.5 Twisted-21.7.0 constantly-15.1.0 cssselect-1.1.0 h2-3.2.0 hpack-3.0.0 hyperframe-5.2.0 hyperlink-21.0.0 incremental-21.3.0 itemadapter-0.4.0 itemloaders-1.0.4 lxml-4.6.3 parsel-1.6.0 priority-1.3.0 protego-0.1.16 pyasn1-0.4.8 pyasn1-modules-0.2.8 queuelib-1.6.2 scrapy-2.5.1 service-identity-21.1.0 w3lib-1.22.0 zope.interface-5.4.0\n",
      "Note: you may need to restart the kernel to use updated packages.\n"
     ]
    }
   ],
   "source": [
    "pip install scrapy"
   ]
  },
  {
   "cell_type": "code",
   "execution_count": 34,
   "metadata": {},
   "outputs": [],
   "source": [
    "villes = ['Mont-Saint-Michel',\n",
    " 'St Malo',\n",
    " 'Bayeux',\n",
    " 'Le Havre',\n",
    " 'Rouen',\n",
    " 'Paris',\n",
    " 'Amiens',\n",
    " 'Lille',\n",
    " 'Strasbourg',\n",
    " 'Chateau du Haut Koenigsbourg',\n",
    " 'Colmar',\n",
    " 'Eguisheim',\n",
    " 'Besancon',\n",
    " 'Dijon',\n",
    " 'Annecy',\n",
    " 'Grenoble',\n",
    " 'Lyon',\n",
    " 'Bormes les Mimosas',\n",
    " 'Cassis',\n",
    " 'Marseille',\n",
    " 'Aix en Provence',\n",
    " 'Avignon',\n",
    " 'Uzès',\n",
    " 'Nímes',\n",
    " 'Aigues Mortes',\n",
    " 'Saintes Maries de la mer',\n",
    " 'Collioure',\n",
    " 'Carcassonne',\n",
    " 'Toulouse',\n",
    " 'Montauban',\n",
    " 'Biarritz',\n",
    " 'Bayonne',\n",
    " 'La Rochelle']"
   ]
  },
  {
   "cell_type": "code",
   "execution_count": 35,
   "metadata": {},
   "outputs": [],
   "source": [
    "import os\n",
    "import logging\n",
    "import json\n",
    "import scrapy\n",
    "from scrapy.crawler import CrawlerProcess"
   ]
  },
  {
   "cell_type": "code",
   "execution_count": 36,
   "metadata": {},
   "outputs": [],
   "source": [
    "\n",
    "    class Hotels(scrapy.Spider):\n",
    "        # Name of your spider\n",
    "        name = \"hotels\"\n",
    "\n",
    "        # Starting URL\n",
    "        start_urls = ['https://www.booking.com/index.fr.html']\n",
    "\n",
    "        # Parse function for login\n",
    "        def parse(self, response):\n",
    "            # FormRequest used to login\n",
    "            return scrapy.FormRequest.from_response(\n",
    "                response,\n",
    "                formdata={'ss': destination_name},\n",
    "                callback=self.after_search\n",
    "            )\n",
    "\n",
    "        # Callback used after login\n",
    "        def after_search(self, response):\n",
    "\n",
    "            hotels = response.css('.sr_item')\n",
    "\n",
    "            for h in hotels:\n",
    "                yield {\n",
    "                    'name': h.css('.sr-hotel__name::text').get(),\n",
    "                    'url': \"https://www.booking.com\" + h.css('.hotel_name_link').attrib[\"href\"],\n",
    "                    'coords': h.css('.sr_card_address_line a').attrib[\"data-coords\"],\n",
    "                    'score': h.css('.bui-review-score__badge::text').get(),\n",
    "                    'description': h.css('.hotel_desc::text').get()\n",
    "\n",
    "                }\n",
    "\n",
    "\n",
    "            # Select the NEXT button and store it in next_page\n",
    "            try:\n",
    "                next_page = response.css('a.paging-next').attrib[\"href\"]\n",
    "            except KeyError:\n",
    "                logging.info('No next page. Terminating crawling process.')\n",
    "            else:\n",
    "                yield response.follow(next_page, callback=self.after_search)\n",
    "                \n",
    "                \n",
    "                "
   ]
  },
  {
   "cell_type": "code",
   "execution_count": 37,
   "metadata": {},
   "outputs": [
    {
     "ename": "NameError",
     "evalue": "name 'destination_name' is not defined",
     "output_type": "error",
     "traceback": [
      "\u001b[0;31m---------------------------------------------------------------------------\u001b[0m",
      "\u001b[0;31mNameError\u001b[0m                                 Traceback (most recent call last)",
      "\u001b[0;32m<ipython-input-37-fe871c886f51>\u001b[0m in \u001b[0;36m<module>\u001b[0;34m\u001b[0m\n\u001b[0;32m----> 1\u001b[0;31m \u001b[0mfilename\u001b[0m \u001b[0;34m=\u001b[0m \u001b[0;34m\"2_hotels_\"\u001b[0m \u001b[0;34m+\u001b[0m \u001b[0mdestination_name\u001b[0m\u001b[0;34m.\u001b[0m\u001b[0mreplace\u001b[0m\u001b[0;34m(\u001b[0m\u001b[0;34m\" \"\u001b[0m\u001b[0;34m,\u001b[0m \u001b[0;34m\"-\"\u001b[0m\u001b[0;34m)\u001b[0m \u001b[0;34m+\u001b[0m \u001b[0;34m\".json\"\u001b[0m\u001b[0;34m\u001b[0m\u001b[0;34m\u001b[0m\u001b[0m\n\u001b[0m\u001b[1;32m      2\u001b[0m \u001b[0;34m\u001b[0m\u001b[0m\n\u001b[1;32m      3\u001b[0m \u001b[0;32mif\u001b[0m \u001b[0mfilename\u001b[0m \u001b[0;32min\u001b[0m \u001b[0mos\u001b[0m\u001b[0;34m.\u001b[0m\u001b[0mlistdir\u001b[0m\u001b[0;34m(\u001b[0m\u001b[0;34m'/home/jovyan/res/'\u001b[0m\u001b[0;34m)\u001b[0m\u001b[0;34m:\u001b[0m\u001b[0;34m\u001b[0m\u001b[0;34m\u001b[0m\u001b[0m\n\u001b[1;32m      4\u001b[0m      \u001b[0mos\u001b[0m\u001b[0;34m.\u001b[0m\u001b[0mremove\u001b[0m\u001b[0;34m(\u001b[0m\u001b[0;34m'/home/jovyan/res/'\u001b[0m \u001b[0;34m+\u001b[0m \u001b[0mfilename\u001b[0m\u001b[0;34m)\u001b[0m\u001b[0;34m\u001b[0m\u001b[0;34m\u001b[0m\u001b[0m\n\u001b[1;32m      5\u001b[0m \u001b[0;34m\u001b[0m\u001b[0m\n",
      "\u001b[0;31mNameError\u001b[0m: name 'destination_name' is not defined"
     ]
    }
   ],
   "source": [
    "filename = \"2_hotels_\" + destination_name.replace(\" \", \"-\") + \".json\"\n",
    "\n",
    "if filename in os.listdir('/home/jovyan/res/'):\n",
    "     os.remove('/home/jovyan/res/' + filename)\n",
    "\n",
    "process = CrawlerProcess(settings = {\n",
    "                'USER_AGENT': 'Chrome/84.0 (compatible; MSIE 7.0; Windows NT 5.1)',\n",
    "                'LOG_LEVEL': logging.INFO,\n",
    "                \"FEEDS\": {\n",
    "                    '/home/jovyan/res/' + filename: {\"format\": \"json\"},\n",
    "                }\n",
    "            })\n",
    "process.crawl(Hotels)\n",
    "process.start()"
   ]
  },
  {
   "cell_type": "markdown",
   "metadata": {},
   "source": [
    "<B>CREATION ESPACE DE STOCKAGE DE NOTRE SCRAPING"
   ]
  },
  {
   "cell_type": "code",
   "execution_count": 38,
   "metadata": {},
   "outputs": [
    {
     "name": "stdout",
     "output_type": "stream",
     "text": [
      "Requirement already satisfied: boto3 in /opt/conda/lib/python3.8/site-packages (1.18.65)\n",
      "Requirement already satisfied: botocore<1.22.0,>=1.21.65 in /opt/conda/lib/python3.8/site-packages (from boto3) (1.21.65)\n",
      "Requirement already satisfied: jmespath<1.0.0,>=0.7.1 in /opt/conda/lib/python3.8/site-packages (from boto3) (0.10.0)\n",
      "Requirement already satisfied: s3transfer<0.6.0,>=0.5.0 in /opt/conda/lib/python3.8/site-packages (from boto3) (0.5.0)\n",
      "Requirement already satisfied: urllib3<1.27,>=1.25.4 in /opt/conda/lib/python3.8/site-packages (from botocore<1.22.0,>=1.21.65->boto3) (1.25.10)\n",
      "Requirement already satisfied: python-dateutil<3.0.0,>=2.1 in /opt/conda/lib/python3.8/site-packages (from botocore<1.22.0,>=1.21.65->boto3) (2.8.1)\n",
      "Requirement already satisfied: six>=1.5 in /opt/conda/lib/python3.8/site-packages (from python-dateutil<3.0.0,>=2.1->botocore<1.22.0,>=1.21.65->boto3) (1.15.0)\n",
      "Note: you may need to restart the kernel to use updated packages.\n"
     ]
    }
   ],
   "source": [
    "pip install boto3"
   ]
  },
  {
   "cell_type": "code",
   "execution_count": 39,
   "metadata": {},
   "outputs": [],
   "source": [
    "import pandas as pd\n",
    "import json\n",
    "import requests\n",
    "import boto3"
   ]
  },
  {
   "cell_type": "markdown",
   "metadata": {},
   "source": [
    "<b>IMPORT DE TOUTES LES VILLES DANS UN S3 Bucket"
   ]
  },
  {
   "cell_type": "code",
   "execution_count": 3,
   "metadata": {},
   "outputs": [],
   "source": [
    "import pandas as pd"
   ]
  },
  {
   "cell_type": "code",
   "execution_count": 6,
   "metadata": {},
   "outputs": [],
   "source": [
    "path_to_file=\"/home/jovyan/Projet_kayak/res//hotels_\""
   ]
  },
  {
   "cell_type": "code",
   "execution_count": 7,
   "metadata": {},
   "outputs": [],
   "source": [
    "data_frame=pd.DataFrame()"
   ]
  },
  {
   "cell_type": "code",
   "execution_count": 8,
   "metadata": {},
   "outputs": [],
   "source": [
    "top_35_cities=[\"Mont-Saint-Michel\", \"St-Malo\", \"Bayeux\", \"Le-Havre\", \"Rouen\", \"Paris\", \"Amiens\", \"Lille\", \"Strasbourg\",\n",
    "\"Chateau-du-Haut-Koenigsbourg\",\"Colmar\", \"Eguisheim\", \"Besancon\", \"Dijon\",\"Annecy\", \"Grenoble\", \"Lyon\", \"Gorges-du-Verdon\",\n",
    "\"Bormes-les-Mimosas\", \"Cassis\", \"Marseille\", \"Aix-en-Provence\", \"Avignon\", \"Uzes\", \"Nimes\", \"Aigues-Mortes\",\n",
    "\"Saintes-Maries-de-la-mer\", \"Collioure\", \"Carcassonne\", \"Ariege\", \"Toulouse\", \"Montauban\", \"Biarritz\", \"Bayonne\",\n",
    "\"La-Rochelle\"]"
   ]
  },
  {
   "cell_type": "code",
   "execution_count": 9,
   "metadata": {},
   "outputs": [],
   "source": [
    "for city in top_35_cities:\n",
    "    data=pd.read_json(path_to_file+city+\".json\")\n",
    "    data[\"city\"]=city\n",
    "    data_frame=data_frame.append(data)"
   ]
  },
  {
   "cell_type": "code",
   "execution_count": 16,
   "metadata": {},
   "outputs": [
    {
     "data": {
      "text/html": [
       "<div>\n",
       "<style scoped>\n",
       "    .dataframe tbody tr th:only-of-type {\n",
       "        vertical-align: middle;\n",
       "    }\n",
       "\n",
       "    .dataframe tbody tr th {\n",
       "        vertical-align: top;\n",
       "    }\n",
       "\n",
       "    .dataframe thead th {\n",
       "        text-align: right;\n",
       "    }\n",
       "</style>\n",
       "<table border=\"1\" class=\"dataframe\">\n",
       "  <thead>\n",
       "    <tr style=\"text-align: right;\">\n",
       "      <th></th>\n",
       "      <th>name</th>\n",
       "      <th>url</th>\n",
       "      <th>coords</th>\n",
       "      <th>score</th>\n",
       "      <th>description</th>\n",
       "      <th>city</th>\n",
       "    </tr>\n",
       "  </thead>\n",
       "  <tbody>\n",
       "    <tr>\n",
       "      <th>0</th>\n",
       "      <td>\\nHôtel Vert\\n</td>\n",
       "      <td>https://www.booking.com\\n/hotel/fr/vert.fr.htm...</td>\n",
       "      <td>-1.50961697101593,48.6147004862904</td>\n",
       "      <td>8,1</td>\n",
       "      <td>\\nSitué à 2 km du Mont-Saint-Michel, sur la cô...</td>\n",
       "      <td>Mont Saint Michel</td>\n",
       "    </tr>\n",
       "    <tr>\n",
       "      <th>1</th>\n",
       "      <td>\\nMercure Mont Saint Michel\\n</td>\n",
       "      <td>https://www.booking.com\\n/hotel/fr/mont-saint-...</td>\n",
       "      <td>-1.51054501533508,48.6142465295929</td>\n",
       "      <td>8,2</td>\n",
       "      <td>\\nInstallé dans des espaces verts à seulement ...</td>\n",
       "      <td>Mont Saint Michel</td>\n",
       "    </tr>\n",
       "    <tr>\n",
       "      <th>2</th>\n",
       "      <td>\\nHotel De La Digue\\n</td>\n",
       "      <td>https://www.booking.com\\n/hotel/fr/de-la-digue...</td>\n",
       "      <td>-1.51091784238815,48.6168815494412</td>\n",
       "      <td>7,1</td>\n",
       "      <td>\\nL'hôtel De La Digue est un établissement tra...</td>\n",
       "      <td>Mont Saint Michel</td>\n",
       "    </tr>\n",
       "    <tr>\n",
       "      <th>3</th>\n",
       "      <td>\\nLe Saint Aubert\\n</td>\n",
       "      <td>https://www.booking.com\\n/hotel/fr/hotel-saint...</td>\n",
       "      <td>-1.51010513305664,48.6129378347065</td>\n",
       "      <td>7,3</td>\n",
       "      <td>\\nNiché dans un écrin de verdure, à seulement ...</td>\n",
       "      <td>Mont Saint Michel</td>\n",
       "    </tr>\n",
       "    <tr>\n",
       "      <th>4</th>\n",
       "      <td>\\nLes Terrasses Poulard\\n</td>\n",
       "      <td>https://www.booking.com\\n/hotel/fr/les-terrass...</td>\n",
       "      <td>-1.51037871837616,48.6353494256412</td>\n",
       "      <td>7,3</td>\n",
       "      <td>\\nOccupant 2 bâtiments différents au cœur du M...</td>\n",
       "      <td>Mont Saint Michel</td>\n",
       "    </tr>\n",
       "  </tbody>\n",
       "</table>\n",
       "</div>"
      ],
      "text/plain": [
       "                            name  \\\n",
       "0                 \\nHôtel Vert\\n   \n",
       "1  \\nMercure Mont Saint Michel\\n   \n",
       "2          \\nHotel De La Digue\\n   \n",
       "3            \\nLe Saint Aubert\\n   \n",
       "4      \\nLes Terrasses Poulard\\n   \n",
       "\n",
       "                                                 url  \\\n",
       "0  https://www.booking.com\\n/hotel/fr/vert.fr.htm...   \n",
       "1  https://www.booking.com\\n/hotel/fr/mont-saint-...   \n",
       "2  https://www.booking.com\\n/hotel/fr/de-la-digue...   \n",
       "3  https://www.booking.com\\n/hotel/fr/hotel-saint...   \n",
       "4  https://www.booking.com\\n/hotel/fr/les-terrass...   \n",
       "\n",
       "                               coords  score  \\\n",
       "0  -1.50961697101593,48.6147004862904   8,1    \n",
       "1  -1.51054501533508,48.6142465295929   8,2    \n",
       "2  -1.51091784238815,48.6168815494412   7,1    \n",
       "3  -1.51010513305664,48.6129378347065   7,3    \n",
       "4  -1.51037871837616,48.6353494256412   7,3    \n",
       "\n",
       "                                         description               city  \n",
       "0  \\nSitué à 2 km du Mont-Saint-Michel, sur la cô...  Mont Saint Michel  \n",
       "1  \\nInstallé dans des espaces verts à seulement ...  Mont Saint Michel  \n",
       "2  \\nL'hôtel De La Digue est un établissement tra...  Mont Saint Michel  \n",
       "3  \\nNiché dans un écrin de verdure, à seulement ...  Mont Saint Michel  \n",
       "4  \\nOccupant 2 bâtiments différents au cœur du M...  Mont Saint Michel  "
      ]
     },
     "execution_count": 16,
     "metadata": {},
     "output_type": "execute_result"
    }
   ],
   "source": [
    "data_frame.head()"
   ]
  },
  {
   "cell_type": "code",
   "execution_count": 11,
   "metadata": {},
   "outputs": [],
   "source": [
    "cities_=[\"Mont-Saint-Michel\", \"St-Malo\", \"Le-Havre\",\"Chateau-du-Haut-Koenigsbourg\",\"Gorges-du-Verdon\",\n",
    "\"Bormes-les-Mimosas\", \"Aix-en-Provence\", \"Aigues-Mortes\",\"Saintes-Maries-de-la-mer\",\"La-Rochelle\"]\n",
    "cities=[\"Mont Saint Michel\", \"St Malo\", \"Le Havre\",\"Chateau du Haut Koenigsbourg\",\"Gorges du Verdon\",\n",
    "\"Bormes les Mimosas\", \"Aix en Provence\", \"Aigues Mortes\",\"Saintes Maries de la mer\",\"La Rochelle\"]\n",
    "\n",
    "for (city_, city) in zip(cities_, cities):\n",
    "    data_frame['city'] = data_frame['city'].replace(city_,city, regex=True)\n"
   ]
  },
  {
   "cell_type": "code",
   "execution_count": 14,
   "metadata": {},
   "outputs": [
    {
     "data": {
      "text/html": [
       "<div>\n",
       "<style scoped>\n",
       "    .dataframe tbody tr th:only-of-type {\n",
       "        vertical-align: middle;\n",
       "    }\n",
       "\n",
       "    .dataframe tbody tr th {\n",
       "        vertical-align: top;\n",
       "    }\n",
       "\n",
       "    .dataframe thead th {\n",
       "        text-align: right;\n",
       "    }\n",
       "</style>\n",
       "<table border=\"1\" class=\"dataframe\">\n",
       "  <thead>\n",
       "    <tr style=\"text-align: right;\">\n",
       "      <th></th>\n",
       "      <th>name</th>\n",
       "      <th>url</th>\n",
       "      <th>coords</th>\n",
       "      <th>score</th>\n",
       "      <th>description</th>\n",
       "      <th>city</th>\n",
       "    </tr>\n",
       "  </thead>\n",
       "  <tbody>\n",
       "    <tr>\n",
       "      <th>0</th>\n",
       "      <td>\\nHôtel Vert\\n</td>\n",
       "      <td>https://www.booking.com\\n/hotel/fr/vert.fr.htm...</td>\n",
       "      <td>-1.50961697101593,48.6147004862904</td>\n",
       "      <td>8,1</td>\n",
       "      <td>\\nSitué à 2 km du Mont-Saint-Michel, sur la cô...</td>\n",
       "      <td>Mont Saint Michel</td>\n",
       "    </tr>\n",
       "    <tr>\n",
       "      <th>1</th>\n",
       "      <td>\\nMercure Mont Saint Michel\\n</td>\n",
       "      <td>https://www.booking.com\\n/hotel/fr/mont-saint-...</td>\n",
       "      <td>-1.51054501533508,48.6142465295929</td>\n",
       "      <td>8,2</td>\n",
       "      <td>\\nInstallé dans des espaces verts à seulement ...</td>\n",
       "      <td>Mont Saint Michel</td>\n",
       "    </tr>\n",
       "    <tr>\n",
       "      <th>2</th>\n",
       "      <td>\\nHotel De La Digue\\n</td>\n",
       "      <td>https://www.booking.com\\n/hotel/fr/de-la-digue...</td>\n",
       "      <td>-1.51091784238815,48.6168815494412</td>\n",
       "      <td>7,1</td>\n",
       "      <td>\\nL'hôtel De La Digue est un établissement tra...</td>\n",
       "      <td>Mont Saint Michel</td>\n",
       "    </tr>\n",
       "    <tr>\n",
       "      <th>3</th>\n",
       "      <td>\\nLe Saint Aubert\\n</td>\n",
       "      <td>https://www.booking.com\\n/hotel/fr/hotel-saint...</td>\n",
       "      <td>-1.51010513305664,48.6129378347065</td>\n",
       "      <td>7,3</td>\n",
       "      <td>\\nNiché dans un écrin de verdure, à seulement ...</td>\n",
       "      <td>Mont Saint Michel</td>\n",
       "    </tr>\n",
       "    <tr>\n",
       "      <th>4</th>\n",
       "      <td>\\nLes Terrasses Poulard\\n</td>\n",
       "      <td>https://www.booking.com\\n/hotel/fr/les-terrass...</td>\n",
       "      <td>-1.51037871837616,48.6353494256412</td>\n",
       "      <td>7,3</td>\n",
       "      <td>\\nOccupant 2 bâtiments différents au cœur du M...</td>\n",
       "      <td>Mont Saint Michel</td>\n",
       "    </tr>\n",
       "  </tbody>\n",
       "</table>\n",
       "</div>"
      ],
      "text/plain": [
       "                            name  \\\n",
       "0                 \\nHôtel Vert\\n   \n",
       "1  \\nMercure Mont Saint Michel\\n   \n",
       "2          \\nHotel De La Digue\\n   \n",
       "3            \\nLe Saint Aubert\\n   \n",
       "4      \\nLes Terrasses Poulard\\n   \n",
       "\n",
       "                                                 url  \\\n",
       "0  https://www.booking.com\\n/hotel/fr/vert.fr.htm...   \n",
       "1  https://www.booking.com\\n/hotel/fr/mont-saint-...   \n",
       "2  https://www.booking.com\\n/hotel/fr/de-la-digue...   \n",
       "3  https://www.booking.com\\n/hotel/fr/hotel-saint...   \n",
       "4  https://www.booking.com\\n/hotel/fr/les-terrass...   \n",
       "\n",
       "                               coords  score  \\\n",
       "0  -1.50961697101593,48.6147004862904   8,1    \n",
       "1  -1.51054501533508,48.6142465295929   8,2    \n",
       "2  -1.51091784238815,48.6168815494412   7,1    \n",
       "3  -1.51010513305664,48.6129378347065   7,3    \n",
       "4  -1.51037871837616,48.6353494256412   7,3    \n",
       "\n",
       "                                         description               city  \n",
       "0  \\nSitué à 2 km du Mont-Saint-Michel, sur la cô...  Mont Saint Michel  \n",
       "1  \\nInstallé dans des espaces verts à seulement ...  Mont Saint Michel  \n",
       "2  \\nL'hôtel De La Digue est un établissement tra...  Mont Saint Michel  \n",
       "3  \\nNiché dans un écrin de verdure, à seulement ...  Mont Saint Michel  \n",
       "4  \\nOccupant 2 bâtiments différents au cœur du M...  Mont Saint Michel  "
      ]
     },
     "execution_count": 14,
     "metadata": {},
     "output_type": "execute_result"
    }
   ],
   "source": [
    "data_frame.head()"
   ]
  },
  {
   "cell_type": "code",
   "execution_count": 15,
   "metadata": {},
   "outputs": [],
   "source": [
    "data_frame.to_csv(\"hotel.csv\")"
   ]
  },
  {
   "cell_type": "code",
   "execution_count": 18,
   "metadata": {},
   "outputs": [],
   "source": [
    "csv = data_frame.to_csv()"
   ]
  },
  {
   "cell_type": "code",
   "execution_count": 26,
   "metadata": {},
   "outputs": [],
   "source": [
    "session = boto3.Session(aws_access_key_id=\"\", aws_secret_access_key=\"\")"
   ]
  },
  {
   "cell_type": "code",
   "execution_count": 27,
   "metadata": {},
   "outputs": [],
   "source": [
    "s3 = session.resource(\"s3\")"
   ]
  },
  {
   "cell_type": "code",
   "execution_count": 28,
   "metadata": {},
   "outputs": [],
   "source": [
    "bucket_name = s3.create_bucket(Bucket=\"dataset-projet-kayak-villes-meteo\")"
   ]
  },
  {
   "cell_type": "code",
   "execution_count": 29,
   "metadata": {},
   "outputs": [
    {
     "data": {
      "text/plain": [
       "s3.Object(bucket_name='dataset-projet-kayak-villes-meteo', key='hotel.csv')"
      ]
     },
     "execution_count": 29,
     "metadata": {},
     "output_type": "execute_result"
    }
   ],
   "source": [
    "bucket_name.put_object(Key='hotel.csv', Body= csv)"
   ]
  },
  {
   "cell_type": "code",
   "execution_count": null,
   "metadata": {},
   "outputs": [],
   "source": []
  }
 ],
 "metadata": {
  "kernelspec": {
   "display_name": "Python 3",
   "language": "python",
   "name": "python3"
  },
  "language_info": {
   "codemirror_mode": {
    "name": "ipython",
    "version": 3
   },
   "file_extension": ".py",
   "mimetype": "text/x-python",
   "name": "python",
   "nbconvert_exporter": "python",
   "pygments_lexer": "ipython3",
   "version": "3.8.6"
  }
 },
 "nbformat": 4,
 "nbformat_minor": 4
}
